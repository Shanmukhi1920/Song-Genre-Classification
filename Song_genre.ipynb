{
 "cells": [
  {
   "cell_type": "markdown",
   "id": "5317f71d",
   "metadata": {},
   "source": [
    "# Classify Song Genres from Audio Data"
   ]
  },
  {
   "cell_type": "markdown",
   "id": "22ea48d5",
   "metadata": {},
   "source": [
    "## Introduction"
   ]
  },
  {
   "cell_type": "markdown",
   "id": "245b42b8",
   "metadata": {},
   "source": [
    "Over the past few years, streaming services with huge catalogs have become the primary means through which most people listen to their favorite music. But at the same time, the sheer amount of music on offer can mean users might be a bit overwhelmed when trying to look for newer music that suits their tastes.\n",
    "\n",
    "For this reason, streaming services have looked into means of categorizing music to allow for personalized recommendations. One method involves direct analysis of the raw audio information in a given song, scoring the raw data on a variety of metrics. Today, we'll be examining data compiled by a research group known as The Echo Nest. Our goal is to look through this dataset and classify songs as being either 'Hip-Hop' or 'Rock' - all without listening to a single one ourselves. "
   ]
  },
  {
   "cell_type": "markdown",
   "id": "4baccc9c",
   "metadata": {},
   "source": [
    "## Importing libraries"
   ]
  },
  {
   "cell_type": "code",
   "execution_count": 42,
   "id": "1d571fe3",
   "metadata": {},
   "outputs": [],
   "source": [
    "import warnings\n",
    "warnings.filterwarnings(\"ignore\", category=UserWarning)\n",
    "warnings.simplefilter(action='ignore', category=FutureWarning)\n",
    "\n",
    "import pandas as pd\n",
    "import numpy as np\n",
    "import matplotlib.pyplot as plt\n",
    "%matplotlib inline\n",
    "import seaborn as sns\n",
    "from sklearn.preprocessing import StandardScaler\n",
    "from sklearn.decomposition import PCA\n",
    "from sklearn.model_selection import train_test_split\n",
    "from sklearn.model_selection import cross_val_score\n",
    "from sklearn.linear_model import LogisticRegression\n",
    "from sklearn.svm import SVC\n",
    "from sklearn.tree import DecisionTreeClassifier\n",
    "from sklearn.ensemble import RandomForestClassifier\n",
    "from sklearn.model_selection import GridSearchCV\n",
    "from sklearn.metrics import confusion_matrix,accuracy_score,classification_report\n",
    "import joblib"
   ]
  },
  {
   "cell_type": "markdown",
   "id": "b6c95399",
   "metadata": {},
   "source": [
    "## Understanding Data"
   ]
  },
  {
   "cell_type": "markdown",
   "id": "6e870a07",
   "metadata": {},
   "source": [
    "To begin with, let's load the metadata about our tracks alongside the track metrics compiled by The Echo Nest. A song is about more than its title, artist, and number of listens. We have another dataset that has musical features of each track such as danceability and acousticness on a scale from -1 to 1. These exist in two different files, which are in different formats - CSV and JSON.\n",
    "\n",
    "Let's start by creating two pandas DataFrames out of these files that we can merge so we have features and labels for the classification later on."
   ]
  },
  {
   "cell_type": "code",
   "execution_count": 2,
   "id": "2ae84ace",
   "metadata": {},
   "outputs": [
    {
     "data": {
      "text/html": [
       "<div>\n",
       "<style scoped>\n",
       "    .dataframe tbody tr th:only-of-type {\n",
       "        vertical-align: middle;\n",
       "    }\n",
       "\n",
       "    .dataframe tbody tr th {\n",
       "        vertical-align: top;\n",
       "    }\n",
       "\n",
       "    .dataframe thead th {\n",
       "        text-align: right;\n",
       "    }\n",
       "</style>\n",
       "<table border=\"1\" class=\"dataframe\">\n",
       "  <thead>\n",
       "    <tr style=\"text-align: right;\">\n",
       "      <th></th>\n",
       "      <th>track_id</th>\n",
       "      <th>acousticness</th>\n",
       "      <th>danceability</th>\n",
       "      <th>energy</th>\n",
       "      <th>instrumentalness</th>\n",
       "      <th>liveness</th>\n",
       "      <th>speechiness</th>\n",
       "      <th>tempo</th>\n",
       "      <th>valence</th>\n",
       "      <th>genre_top</th>\n",
       "    </tr>\n",
       "  </thead>\n",
       "  <tbody>\n",
       "    <tr>\n",
       "      <th>0</th>\n",
       "      <td>2</td>\n",
       "      <td>0.416675</td>\n",
       "      <td>0.675894</td>\n",
       "      <td>0.634476</td>\n",
       "      <td>0.010628</td>\n",
       "      <td>0.177647</td>\n",
       "      <td>0.159310</td>\n",
       "      <td>165.922</td>\n",
       "      <td>0.576661</td>\n",
       "      <td>Hip-Hop</td>\n",
       "    </tr>\n",
       "    <tr>\n",
       "      <th>1</th>\n",
       "      <td>3</td>\n",
       "      <td>0.374408</td>\n",
       "      <td>0.528643</td>\n",
       "      <td>0.817461</td>\n",
       "      <td>0.001851</td>\n",
       "      <td>0.105880</td>\n",
       "      <td>0.461818</td>\n",
       "      <td>126.957</td>\n",
       "      <td>0.269240</td>\n",
       "      <td>Hip-Hop</td>\n",
       "    </tr>\n",
       "    <tr>\n",
       "      <th>2</th>\n",
       "      <td>5</td>\n",
       "      <td>0.043567</td>\n",
       "      <td>0.745566</td>\n",
       "      <td>0.701470</td>\n",
       "      <td>0.000697</td>\n",
       "      <td>0.373143</td>\n",
       "      <td>0.124595</td>\n",
       "      <td>100.260</td>\n",
       "      <td>0.621661</td>\n",
       "      <td>Hip-Hop</td>\n",
       "    </tr>\n",
       "    <tr>\n",
       "      <th>3</th>\n",
       "      <td>134</td>\n",
       "      <td>0.452217</td>\n",
       "      <td>0.513238</td>\n",
       "      <td>0.560410</td>\n",
       "      <td>0.019443</td>\n",
       "      <td>0.096567</td>\n",
       "      <td>0.525519</td>\n",
       "      <td>114.290</td>\n",
       "      <td>0.894072</td>\n",
       "      <td>Hip-Hop</td>\n",
       "    </tr>\n",
       "    <tr>\n",
       "      <th>4</th>\n",
       "      <td>153</td>\n",
       "      <td>0.988306</td>\n",
       "      <td>0.255661</td>\n",
       "      <td>0.979774</td>\n",
       "      <td>0.973006</td>\n",
       "      <td>0.121342</td>\n",
       "      <td>0.051740</td>\n",
       "      <td>90.241</td>\n",
       "      <td>0.034018</td>\n",
       "      <td>Rock</td>\n",
       "    </tr>\n",
       "  </tbody>\n",
       "</table>\n",
       "</div>"
      ],
      "text/plain": [
       "   track_id  acousticness  danceability    energy  instrumentalness  liveness  \\\n",
       "0         2      0.416675      0.675894  0.634476          0.010628  0.177647   \n",
       "1         3      0.374408      0.528643  0.817461          0.001851  0.105880   \n",
       "2         5      0.043567      0.745566  0.701470          0.000697  0.373143   \n",
       "3       134      0.452217      0.513238  0.560410          0.019443  0.096567   \n",
       "4       153      0.988306      0.255661  0.979774          0.973006  0.121342   \n",
       "\n",
       "   speechiness    tempo   valence genre_top  \n",
       "0     0.159310  165.922  0.576661   Hip-Hop  \n",
       "1     0.461818  126.957  0.269240   Hip-Hop  \n",
       "2     0.124595  100.260  0.621661   Hip-Hop  \n",
       "3     0.525519  114.290  0.894072   Hip-Hop  \n",
       "4     0.051740   90.241  0.034018      Rock  "
      ]
     },
     "execution_count": 2,
     "metadata": {},
     "output_type": "execute_result"
    }
   ],
   "source": [
    "# Read in track metadata with genre labels\n",
    "tracks = pd.read_csv('fma-rock-vs-hiphop.csv')\n",
    "\n",
    "# Read in track metrics with the features\n",
    "echonest_metrics = pd.read_json('echonest-metrics.json', precise_float=True)\n",
    "\n",
    "# Merge the relevant columns of tracks and echonest_metrics\n",
    "echo_tracks = echonest_metrics.merge(tracks[['genre_top', 'track_id']], on='track_id')\n",
    "\n",
    "# Inspect the resultant dataframe\n",
    "echo_tracks.head()"
   ]
  },
  {
   "cell_type": "code",
   "execution_count": 3,
   "id": "18df12b1",
   "metadata": {},
   "outputs": [
    {
     "name": "stdout",
     "output_type": "stream",
     "text": [
      "track_id            0\n",
      "acousticness        0\n",
      "danceability        0\n",
      "energy              0\n",
      "instrumentalness    0\n",
      "liveness            0\n",
      "speechiness         0\n",
      "tempo               0\n",
      "valence             0\n",
      "genre_top           0\n",
      "dtype: int64\n"
     ]
    }
   ],
   "source": [
    "# Check for missing values\n",
    "print(echo_tracks.isnull().sum())"
   ]
  },
  {
   "cell_type": "code",
   "execution_count": 4,
   "id": "53885a25",
   "metadata": {},
   "outputs": [
    {
     "name": "stdout",
     "output_type": "stream",
     "text": [
      "Number of rows and columns: (4802, 10)\n",
      "\n",
      "\n",
      "            track_id  acousticness  danceability       energy  \\\n",
      "count    4802.000000  4.802000e+03   4802.000000  4802.000000   \n",
      "mean    30164.871720  4.870600e-01      0.436556     0.625126   \n",
      "std     28592.013796  3.681396e-01      0.183502     0.244051   \n",
      "min         2.000000  9.491000e-07      0.051307     0.000279   \n",
      "25%      7494.250000  8.351236e-02      0.296047     0.450757   \n",
      "50%     20723.500000  5.156888e-01      0.419447     0.648374   \n",
      "75%     44240.750000  8.555765e-01      0.565339     0.837016   \n",
      "max    124722.000000  9.957965e-01      0.961871     0.999768   \n",
      "\n",
      "       instrumentalness     liveness  speechiness        tempo      valence  \n",
      "count       4802.000000  4802.000000  4802.000000  4802.000000  4802.000000  \n",
      "mean           0.604096     0.187997     0.104877   126.687944     0.453413  \n",
      "std            0.376487     0.150562     0.145934    34.002473     0.266632  \n",
      "min            0.000000     0.025297     0.023234    29.093000     0.014392  \n",
      "25%            0.164972     0.104052     0.036897    98.000750     0.224617  \n",
      "50%            0.808752     0.123080     0.049594   124.625500     0.446240  \n",
      "75%            0.915472     0.215151     0.088290   151.450000     0.666914  \n",
      "max            0.993134     0.971392     0.966177   250.059000     0.983649  \n"
     ]
    }
   ],
   "source": [
    "# Display the number of rows and columns in the dataset\n",
    "print(\"Number of rows and columns:\", echo_tracks.shape)\n",
    "\n",
    "print(\"\\n\")\n",
    "\n",
    "# Display summary statistics for numerical variables\n",
    "print(echo_tracks.describe())"
   ]
  },
  {
   "cell_type": "markdown",
   "id": "42972116",
   "metadata": {},
   "source": [
    "**Initial Observations**\n",
    "\n",
    "1.The dataset consists of 4802 songs, each described by 10 features. \n",
    "\n",
    "\n",
    "2.There are no missing values, and the features exhibit diverse characteristics.\n",
    "\n",
    "\n",
    "3.On average, the songs have moderate acousticness (mean = 0.487), moderate danceability (mean = 0.437), high energy (mean = 0.625), and a notable degree of instrumentalness (mean = 0.604). \n",
    "\n",
    "\n",
    "4.Songs tend to have low liveness (mean = 0.188) and speechiness (mean = 0.105). \n",
    "\n",
    "\n",
    "5.The tempo is moderately paced (mean = 126.688), and the songs express a moderate level of valence (mean = 0.453). \n",
    "\n",
    "\n",
    "6.The dataset showcases variability, with instrumentalness and energy having the highest standard deviations (0.376 and 0.244, respectively), indicating a wide range of values across songs."
   ]
  },
  {
   "cell_type": "code",
   "execution_count": 5,
   "id": "00332911",
   "metadata": {},
   "outputs": [
    {
     "data": {
      "image/png": "[encoded data removed]",
      "text/plain": [
       "<Figure size 1000x600 with 1 Axes>"
      ]
     },
     "metadata": {},
     "output_type": "display_data"
    }
   ],
   "source": [
    "# Visualize the distribution of the target variable (genre_top)\n",
    "genre_counts = echo_tracks['genre_top'].value_counts().reset_index()\n",
    "genre_counts.columns = ['Genre', 'Count']\n",
    "\n",
    "plt.figure(figsize=(10, 6))\n",
    "plt.bar(genre_counts['Genre'], genre_counts['Count'])\n",
    "plt.title('Genre Counts')\n",
    "plt.xlabel('Genre')\n",
    "plt.ylabel('Count')\n",
    "plt.show()\n"
   ]
  },
  {
   "cell_type": "markdown",
   "id": "ed3c600e",
   "metadata": {},
   "source": [
    "We have 3892 song samples classified as 'Rock' genre and only 910 samples classified as 'Hip-Hop' genre. This indicates an imbalance in the class distribution, with a significantly larger number of samples belonging to the 'Rock' genre compared to the 'Hip-Hop' genre."
   ]
  },
  {
   "cell_type": "code",
   "execution_count": 6,
   "id": "e9ba35fc",
   "metadata": {},
   "outputs": [
    {
     "data": {
      "image/png": "[encoded data removed]",
      "text/plain": [
       "<Figure size 1500x1000 with 8 Axes>"
      ]
     },
     "metadata": {},
     "output_type": "display_data"
    }
   ],
   "source": [
    "# Boxplots for each numerical feature with respect to genre_top\n",
    "plt.figure(figsize=(15, 10))\n",
    "for i, column in enumerate(['acousticness', 'danceability', 'energy', 'instrumentalness', 'liveness', 'speechiness', 'tempo', 'valence']):\n",
    "    plt.subplot(3, 3, i+1)\n",
    "    sns.boxplot(x='genre_top', y=column, data=echo_tracks)\n",
    "    plt.title(f'Boxplot of {column} by Genre')\n",
    "    plt.xlabel('Genre')\n",
    "    plt.ylabel(column)\n",
    "\n",
    "plt.tight_layout()\n",
    "plt.show()"
   ]
  },
  {
   "cell_type": "code",
   "execution_count": 7,
   "id": "1be6b0b4",
   "metadata": {
    "scrolled": true
   },
   "outputs": [
    {
     "data": {
      "text/html": [
       "<style type=\"text/css\">\n",
       "#T_63908_row0_col0, #T_63908_row1_col1, #T_63908_row2_col2, #T_63908_row3_col3, #T_63908_row4_col4, #T_63908_row5_col5, #T_63908_row6_col6, #T_63908_row7_col7 {\n",
       "  background-color: #023858;\n",
       "  color: #f1f1f1;\n",
       "}\n",
       "#T_63908_row0_col1 {\n",
       "  background-color: #e0dded;\n",
       "  color: #000000;\n",
       "}\n",
       "#T_63908_row0_col2, #T_63908_row1_col4, #T_63908_row1_col6, #T_63908_row2_col0, #T_63908_row3_col1, #T_63908_row3_col5, #T_63908_row3_col7, #T_63908_row5_col3 {\n",
       "  background-color: #fff7fb;\n",
       "  color: #000000;\n",
       "}\n",
       "#T_63908_row0_col3 {\n",
       "  background-color: #97b7d7;\n",
       "  color: #000000;\n",
       "}\n",
       "#T_63908_row0_col4, #T_63908_row1_col3 {\n",
       "  background-color: #f3edf5;\n",
       "  color: #000000;\n",
       "}\n",
       "#T_63908_row0_col5 {\n",
       "  background-color: #b8c6e0;\n",
       "  color: #000000;\n",
       "}\n",
       "#T_63908_row0_col6 {\n",
       "  background-color: #e1dfed;\n",
       "  color: #000000;\n",
       "}\n",
       "#T_63908_row0_col7 {\n",
       "  background-color: #e2dfee;\n",
       "  color: #000000;\n",
       "}\n",
       "#T_63908_row1_col0, #T_63908_row2_col4, #T_63908_row4_col6, #T_63908_row6_col0 {\n",
       "  background-color: #dcdaeb;\n",
       "  color: #000000;\n",
       "}\n",
       "#T_63908_row1_col2 {\n",
       "  background-color: #fbf3f9;\n",
       "  color: #000000;\n",
       "}\n",
       "#T_63908_row1_col5 {\n",
       "  background-color: #80aed2;\n",
       "  color: #f1f1f1;\n",
       "}\n",
       "#T_63908_row1_col7 {\n",
       "  background-color: #529bc7;\n",
       "  color: #f1f1f1;\n",
       "}\n",
       "#T_63908_row2_col1, #T_63908_row6_col1 {\n",
       "  background-color: #fef6fa;\n",
       "  color: #000000;\n",
       "}\n",
       "#T_63908_row2_col3 {\n",
       "  background-color: #c4cbe3;\n",
       "  color: #000000;\n",
       "}\n",
       "#T_63908_row2_col5 {\n",
       "  background-color: #dedcec;\n",
       "  color: #000000;\n",
       "}\n",
       "#T_63908_row2_col6 {\n",
       "  background-color: #adc1dd;\n",
       "  color: #000000;\n",
       "}\n",
       "#T_63908_row2_col7, #T_63908_row3_col6, #T_63908_row7_col0 {\n",
       "  background-color: #d9d8ea;\n",
       "  color: #000000;\n",
       "}\n",
       "#T_63908_row3_col0, #T_63908_row6_col2 {\n",
       "  background-color: #a7bddb;\n",
       "  color: #000000;\n",
       "}\n",
       "#T_63908_row3_col2 {\n",
       "  background-color: #d2d3e7;\n",
       "  color: #000000;\n",
       "}\n",
       "#T_63908_row3_col4 {\n",
       "  background-color: #fdf5fa;\n",
       "  color: #000000;\n",
       "}\n",
       "#T_63908_row4_col0 {\n",
       "  background-color: #dad9ea;\n",
       "  color: #000000;\n",
       "}\n",
       "#T_63908_row4_col1 {\n",
       "  background-color: #ede8f3;\n",
       "  color: #000000;\n",
       "}\n",
       "#T_63908_row4_col2 {\n",
       "  background-color: #bdc8e1;\n",
       "  color: #000000;\n",
       "}\n",
       "#T_63908_row4_col3, #T_63908_row5_col6 {\n",
       "  background-color: #dbdaeb;\n",
       "  color: #000000;\n",
       "}\n",
       "#T_63908_row4_col5 {\n",
       "  background-color: #c0c9e2;\n",
       "  color: #000000;\n",
       "}\n",
       "#T_63908_row4_col7 {\n",
       "  background-color: #e8e4f0;\n",
       "  color: #000000;\n",
       "}\n",
       "#T_63908_row5_col0, #T_63908_row6_col5 {\n",
       "  background-color: #c8cde4;\n",
       "  color: #000000;\n",
       "}\n",
       "#T_63908_row5_col1 {\n",
       "  background-color: #93b5d6;\n",
       "  color: #000000;\n",
       "}\n",
       "#T_63908_row5_col2, #T_63908_row5_col4 {\n",
       "  background-color: #eae6f1;\n",
       "  color: #000000;\n",
       "}\n",
       "#T_63908_row5_col7 {\n",
       "  background-color: #bfc9e1;\n",
       "  color: #000000;\n",
       "}\n",
       "#T_63908_row6_col3 {\n",
       "  background-color: #c5cce3;\n",
       "  color: #000000;\n",
       "}\n",
       "#T_63908_row6_col4 {\n",
       "  background-color: #f0eaf4;\n",
       "  color: #000000;\n",
       "}\n",
       "#T_63908_row6_col7 {\n",
       "  background-color: #d6d6e9;\n",
       "  color: #000000;\n",
       "}\n",
       "#T_63908_row7_col1 {\n",
       "  background-color: #4c99c5;\n",
       "  color: #f1f1f1;\n",
       "}\n",
       "#T_63908_row7_col2 {\n",
       "  background-color: #d1d2e6;\n",
       "  color: #000000;\n",
       "}\n",
       "#T_63908_row7_col3 {\n",
       "  background-color: #efe9f3;\n",
       "  color: #000000;\n",
       "}\n",
       "#T_63908_row7_col4 {\n",
       "  background-color: #f7f0f7;\n",
       "  color: #000000;\n",
       "}\n",
       "#T_63908_row7_col5 {\n",
       "  background-color: #a5bddb;\n",
       "  color: #000000;\n",
       "}\n",
       "#T_63908_row7_col6 {\n",
       "  background-color: #d3d4e7;\n",
       "  color: #000000;\n",
       "}\n",
       "</style>\n",
       "<table id=\"T_63908\">\n",
       "  <thead>\n",
       "    <tr>\n",
       "      <th class=\"blank level0\" >&nbsp;</th>\n",
       "      <th id=\"T_63908_level0_col0\" class=\"col_heading level0 col0\" >acousticness</th>\n",
       "      <th id=\"T_63908_level0_col1\" class=\"col_heading level0 col1\" >danceability</th>\n",
       "      <th id=\"T_63908_level0_col2\" class=\"col_heading level0 col2\" >energy</th>\n",
       "      <th id=\"T_63908_level0_col3\" class=\"col_heading level0 col3\" >instrumentalness</th>\n",
       "      <th id=\"T_63908_level0_col4\" class=\"col_heading level0 col4\" >liveness</th>\n",
       "      <th id=\"T_63908_level0_col5\" class=\"col_heading level0 col5\" >speechiness</th>\n",
       "      <th id=\"T_63908_level0_col6\" class=\"col_heading level0 col6\" >tempo</th>\n",
       "      <th id=\"T_63908_level0_col7\" class=\"col_heading level0 col7\" >valence</th>\n",
       "    </tr>\n",
       "  </thead>\n",
       "  <tbody>\n",
       "    <tr>\n",
       "      <th id=\"T_63908_level0_row0\" class=\"row_heading level0 row0\" >acousticness</th>\n",
       "      <td id=\"T_63908_row0_col0\" class=\"data row0 col0\" >1.000000</td>\n",
       "      <td id=\"T_63908_row0_col1\" class=\"data row0 col1\" >-0.028954</td>\n",
       "      <td id=\"T_63908_row0_col2\" class=\"data row0 col2\" >-0.281619</td>\n",
       "      <td id=\"T_63908_row0_col3\" class=\"data row0 col3\" >0.194780</td>\n",
       "      <td id=\"T_63908_row0_col4\" class=\"data row0 col4\" >-0.019991</td>\n",
       "      <td id=\"T_63908_row0_col5\" class=\"data row0 col5\" >0.072204</td>\n",
       "      <td id=\"T_63908_row0_col6\" class=\"data row0 col6\" >-0.026310</td>\n",
       "      <td id=\"T_63908_row0_col7\" class=\"data row0 col7\" >-0.013841</td>\n",
       "    </tr>\n",
       "    <tr>\n",
       "      <th id=\"T_63908_level0_row1\" class=\"row_heading level0 row1\" >danceability</th>\n",
       "      <td id=\"T_63908_row1_col0\" class=\"data row1 col0\" >-0.028954</td>\n",
       "      <td id=\"T_63908_row1_col1\" class=\"data row1 col1\" >1.000000</td>\n",
       "      <td id=\"T_63908_row1_col2\" class=\"data row1 col2\" >-0.242032</td>\n",
       "      <td id=\"T_63908_row1_col3\" class=\"data row1 col3\" >-0.255217</td>\n",
       "      <td id=\"T_63908_row1_col4\" class=\"data row1 col4\" >-0.106584</td>\n",
       "      <td id=\"T_63908_row1_col5\" class=\"data row1 col5\" >0.276206</td>\n",
       "      <td id=\"T_63908_row1_col6\" class=\"data row1 col6\" >-0.242089</td>\n",
       "      <td id=\"T_63908_row1_col7\" class=\"data row1 col7\" >0.473165</td>\n",
       "    </tr>\n",
       "    <tr>\n",
       "      <th id=\"T_63908_level0_row2\" class=\"row_heading level0 row2\" >energy</th>\n",
       "      <td id=\"T_63908_row2_col0\" class=\"data row2 col0\" >-0.281619</td>\n",
       "      <td id=\"T_63908_row2_col1\" class=\"data row2 col1\" >-0.242032</td>\n",
       "      <td id=\"T_63908_row2_col2\" class=\"data row2 col2\" >1.000000</td>\n",
       "      <td id=\"T_63908_row2_col3\" class=\"data row2 col3\" >0.028238</td>\n",
       "      <td id=\"T_63908_row2_col4\" class=\"data row2 col4\" >0.113331</td>\n",
       "      <td id=\"T_63908_row2_col5\" class=\"data row2 col5\" >-0.109983</td>\n",
       "      <td id=\"T_63908_row2_col6\" class=\"data row2 col6\" >0.195227</td>\n",
       "      <td id=\"T_63908_row2_col7\" class=\"data row2 col7\" >0.038603</td>\n",
       "    </tr>\n",
       "    <tr>\n",
       "      <th id=\"T_63908_level0_row3\" class=\"row_heading level0 row3\" >instrumentalness</th>\n",
       "      <td id=\"T_63908_row3_col0\" class=\"data row3 col0\" >0.194780</td>\n",
       "      <td id=\"T_63908_row3_col1\" class=\"data row3 col1\" >-0.255217</td>\n",
       "      <td id=\"T_63908_row3_col2\" class=\"data row3 col2\" >0.028238</td>\n",
       "      <td id=\"T_63908_row3_col3\" class=\"data row3 col3\" >1.000000</td>\n",
       "      <td id=\"T_63908_row3_col4\" class=\"data row3 col4\" >-0.091022</td>\n",
       "      <td id=\"T_63908_row3_col5\" class=\"data row3 col5\" >-0.366762</td>\n",
       "      <td id=\"T_63908_row3_col6\" class=\"data row3 col6\" >0.022215</td>\n",
       "      <td id=\"T_63908_row3_col7\" class=\"data row3 col7\" >-0.219967</td>\n",
       "    </tr>\n",
       "    <tr>\n",
       "      <th id=\"T_63908_level0_row4\" class=\"row_heading level0 row4\" >liveness</th>\n",
       "      <td id=\"T_63908_row4_col0\" class=\"data row4 col0\" >-0.019991</td>\n",
       "      <td id=\"T_63908_row4_col1\" class=\"data row4 col1\" >-0.106584</td>\n",
       "      <td id=\"T_63908_row4_col2\" class=\"data row4 col2\" >0.113331</td>\n",
       "      <td id=\"T_63908_row4_col3\" class=\"data row4 col3\" >-0.091022</td>\n",
       "      <td id=\"T_63908_row4_col4\" class=\"data row4 col4\" >1.000000</td>\n",
       "      <td id=\"T_63908_row4_col5\" class=\"data row4 col5\" >0.041173</td>\n",
       "      <td id=\"T_63908_row4_col6\" class=\"data row4 col6\" >0.002732</td>\n",
       "      <td id=\"T_63908_row4_col7\" class=\"data row4 col7\" >-0.045093</td>\n",
       "    </tr>\n",
       "    <tr>\n",
       "      <th id=\"T_63908_level0_row5\" class=\"row_heading level0 row5\" >speechiness</th>\n",
       "      <td id=\"T_63908_row5_col0\" class=\"data row5 col0\" >0.072204</td>\n",
       "      <td id=\"T_63908_row5_col1\" class=\"data row5 col1\" >0.276206</td>\n",
       "      <td id=\"T_63908_row5_col2\" class=\"data row5 col2\" >-0.109983</td>\n",
       "      <td id=\"T_63908_row5_col3\" class=\"data row5 col3\" >-0.366762</td>\n",
       "      <td id=\"T_63908_row5_col4\" class=\"data row5 col4\" >0.041173</td>\n",
       "      <td id=\"T_63908_row5_col5\" class=\"data row5 col5\" >1.000000</td>\n",
       "      <td id=\"T_63908_row5_col6\" class=\"data row5 col6\" >0.008241</td>\n",
       "      <td id=\"T_63908_row5_col7\" class=\"data row5 col7\" >0.149894</td>\n",
       "    </tr>\n",
       "    <tr>\n",
       "      <th id=\"T_63908_level0_row6\" class=\"row_heading level0 row6\" >tempo</th>\n",
       "      <td id=\"T_63908_row6_col0\" class=\"data row6 col0\" >-0.026310</td>\n",
       "      <td id=\"T_63908_row6_col1\" class=\"data row6 col1\" >-0.242089</td>\n",
       "      <td id=\"T_63908_row6_col2\" class=\"data row6 col2\" >0.195227</td>\n",
       "      <td id=\"T_63908_row6_col3\" class=\"data row6 col3\" >0.022215</td>\n",
       "      <td id=\"T_63908_row6_col4\" class=\"data row6 col4\" >0.002732</td>\n",
       "      <td id=\"T_63908_row6_col5\" class=\"data row6 col5\" >0.008241</td>\n",
       "      <td id=\"T_63908_row6_col6\" class=\"data row6 col6\" >1.000000</td>\n",
       "      <td id=\"T_63908_row6_col7\" class=\"data row6 col7\" >0.052221</td>\n",
       "    </tr>\n",
       "    <tr>\n",
       "      <th id=\"T_63908_level0_row7\" class=\"row_heading level0 row7\" >valence</th>\n",
       "      <td id=\"T_63908_row7_col0\" class=\"data row7 col0\" >-0.013841</td>\n",
       "      <td id=\"T_63908_row7_col1\" class=\"data row7 col1\" >0.473165</td>\n",
       "      <td id=\"T_63908_row7_col2\" class=\"data row7 col2\" >0.038603</td>\n",
       "      <td id=\"T_63908_row7_col3\" class=\"data row7 col3\" >-0.219967</td>\n",
       "      <td id=\"T_63908_row7_col4\" class=\"data row7 col4\" >-0.045093</td>\n",
       "      <td id=\"T_63908_row7_col5\" class=\"data row7 col5\" >0.149894</td>\n",
       "      <td id=\"T_63908_row7_col6\" class=\"data row7 col6\" >0.052221</td>\n",
       "      <td id=\"T_63908_row7_col7\" class=\"data row7 col7\" >1.000000</td>\n",
       "    </tr>\n",
       "  </tbody>\n",
       "</table>\n"
      ],
      "text/plain": [
       "<pandas.io.formats.style.Styler at 0x1e40d3f49d0>"
      ]
     },
     "execution_count": 7,
     "metadata": {},
     "output_type": "execute_result"
    }
   ],
   "source": [
    "# Creating a correlation matrix\n",
    "corr_metrics = echo_tracks[['acousticness', 'danceability', 'energy', 'instrumentalness', 'liveness', 'speechiness', 'tempo', 'valence']].corr()\n",
    "corr_metrics.style.background_gradient()"
   ]
  },
  {
   "cell_type": "markdown",
   "id": "046be18a",
   "metadata": {},
   "source": [
    "We typically want to avoid using variables that have strong correlations with each other --- hence avoiding feature redundancy --- for a few reasons:\n",
    "\n",
    "    1.To keep the model simple and improve interpretability (with many features, we run the risk of overfitting).\n",
    "    2.When our datasets are very large, using fewer features can drastically speed up our computation time.\n",
    "\n",
    "\n",
    "But we didn't find any particularly strong correlations between our features"
   ]
  },
  {
   "cell_type": "markdown",
   "id": "acbf0e15",
   "metadata": {},
   "source": [
    "## Preprocessing"
   ]
  },
  {
   "cell_type": "code",
   "execution_count": 8,
   "id": "81915271",
   "metadata": {},
   "outputs": [],
   "source": [
    "# Drop unnecessary columns\n",
    "echo_tracks = echo_tracks.drop(['track_id'], axis=1)"
   ]
  },
  {
   "cell_type": "markdown",
   "id": "a584a76a",
   "metadata": {},
   "source": [
    "Well, just by looking at the number of data points we have for each class, we see that we have far more data points for the rock classification than for hip-hop, potentially skewing our model's ability to distinguish between classes. This also tells us that most of our model's accuracy is driven by its ability to classify just rock songs, which is less than ideal.\n",
    "\n",
    "To account for this, we perform resampling, which involves undersampling the majority class ('Rock') to reduce its dominance. "
   ]
  },
  {
   "cell_type": "code",
   "execution_count": 9,
   "id": "e40c07c8",
   "metadata": {},
   "outputs": [],
   "source": [
    "# Handling class imbalances\n",
    "# Subset a balanced proportion of data points\n",
    "hop_only = echo_tracks.loc[echo_tracks['genre_top'] == 'Hip-Hop']\n",
    "rock_only = echo_tracks.loc[echo_tracks['genre_top'] == 'Rock']\n",
    "\n",
    "# subset only the rock songs, and take a sample the same size as there are hip-hop songs\n",
    "rock_only = rock_only.sample(hop_only.shape[0], random_state=10)\n",
    "\n",
    "# concatenate the dataframes hop_only and rock_only\n",
    "rock_hop_bal = pd.concat([rock_only, hop_only])"
   ]
  },
  {
   "cell_type": "markdown",
   "id": "f278c41c",
   "metadata": {},
   "source": [
    "## Splitting data"
   ]
  },
  {
   "cell_type": "code",
   "execution_count": 10,
   "id": "801dc78e",
   "metadata": {},
   "outputs": [],
   "source": [
    "# Create features\n",
    "features = rock_hop_bal.drop([\"genre_top\"], axis=1).values\n",
    "\n",
    "# Create labels\n",
    "labels = rock_hop_bal[\"genre_top\"].values\n",
    "\n",
    "# Split our data\n",
    "train_features, test_features, train_labels, test_labels = train_test_split(features, labels,\n",
    "                                                                            random_state=10)"
   ]
  },
  {
   "cell_type": "markdown",
   "id": "9caa0b5a",
   "metadata": {},
   "source": [
    "## Normalizing data"
   ]
  },
  {
   "cell_type": "markdown",
   "id": "d81f2230",
   "metadata": {},
   "source": [
    "Since we didn't find any particular strong correlations between our features, we can instead use a common approach to reduce the number of features called principal component analysis (PCA).\n",
    "\n",
    "It is possible that the variance between genres can be explained by just a few features in the dataset. PCA rotates the data along the axis of highest variance, thus allowing us to determine the relative contribution of each feature of our data towards the variance between classes.\n",
    "\n",
    "However, since PCA uses the absolute variance of a feature to rotate the data, a feature with a broader range of values will overpower and bias the algorithm relative to the other features. To avoid this, we must first normalize our train and test features. There are a few methods to do this, but a common way is through standardization, such that all features have a mean = 0 and standard deviation = 1 (the resultant is a z-score)."
   ]
  },
  {
   "cell_type": "code",
   "execution_count": 11,
   "id": "14d0f349",
   "metadata": {},
   "outputs": [],
   "source": [
    "# Scale train_features and set the values to a new variable\n",
    "scaler = StandardScaler()\n",
    "\n",
    "# Scale train_features and test_features\n",
    "scaled_train_features = scaler.fit_transform(train_features)\n",
    "scaled_test_features = scaler.transform(test_features)"
   ]
  },
  {
   "cell_type": "markdown",
   "id": "16ac2c93",
   "metadata": {},
   "source": [
    "## Feature Selection - PCA"
   ]
  },
  {
   "cell_type": "markdown",
   "id": "a52b9f34",
   "metadata": {},
   "source": [
    "Now that we have preprocessed our data, we are ready to use PCA to determine by how much we can reduce the dimensionality of our data. We can use scree-plots and cumulative explained ratio plots to find the number of components to use in further analyses."
   ]
  },
  {
   "cell_type": "code",
   "execution_count": 12,
   "id": "eb9cc4c7",
   "metadata": {},
   "outputs": [
    {
     "data": {
      "text/plain": [
       "Text(0.5, 0, 'Principal Component #')"
      ]
     },
     "execution_count": 12,
     "metadata": {},
     "output_type": "execute_result"
    },
    {
     "data": {
      "image/png": "[encoded data removed]",
      "text/plain": [
       "<Figure size 640x480 with 1 Axes>"
      ]
     },
     "metadata": {},
     "output_type": "display_data"
    }
   ],
   "source": [
    "# Get our explained variance ratios from PCA using all features\n",
    "pca = PCA()\n",
    "pca.fit(scaled_train_features)\n",
    "exp_variance = pca.explained_variance_ratio_\n",
    "\n",
    "# plot the explained variance using a barplot\n",
    "fig, ax = plt.subplots()\n",
    "ax.bar(range(pca.n_components_), exp_variance)\n",
    "ax.set_xlabel('Principal Component #')"
   ]
  },
  {
   "cell_type": "markdown",
   "id": "eb6f5f29",
   "metadata": {},
   "source": [
    "Unfortunately, there does not appear to be a clear elbow in this scree plot, which means it is not straightforward to find the number of intrinsic dimensions using this method.\n",
    "\n",
    "But all is not lost! Instead, we can also look at the cumulative explained variance plot to determine how many features are required to explain, say, about 85% of the variance (cutoffs are somewhat arbitrary here, and usually decided upon by 'rules of thumb'). Once we determine the appropriate number of components, we can perform PCA with that many components, ideally reducing the dimensionality of our data."
   ]
  },
  {
   "cell_type": "code",
   "execution_count": 13,
   "id": "071401d2",
   "metadata": {},
   "outputs": [
    {
     "data": {
      "text/plain": [
       "<matplotlib.lines.Line2D at 0x1e40b7c1480>"
      ]
     },
     "execution_count": 13,
     "metadata": {},
     "output_type": "execute_result"
    },
    {
     "data": {
      "image/png": "[encoded data removed]",
      "text/plain": [
       "<Figure size 640x480 with 1 Axes>"
      ]
     },
     "metadata": {},
     "output_type": "display_data"
    }
   ],
   "source": [
    "# Calculate the cumulative explained variance\n",
    "cum_exp_variance = np.cumsum(exp_variance)\n",
    "\n",
    "# Plot the cumulative explained variance and draw a dashed line at 0.85.\n",
    "fig, ax = plt.subplots()\n",
    "ax.plot(cum_exp_variance)\n",
    "ax.axhline(y=0.85, linestyle='--')"
   ]
  },
  {
   "cell_type": "markdown",
   "id": "a2e68703",
   "metadata": {},
   "source": [
    "We saw from the plot that 6 features (remember indexing starts at 0) can explain 85% of the variance!\n",
    "\n",
    "Therefore, we can use 6 components to perform PCA and reduce the dimensionality of our train and test features.\n",
    "\n"
   ]
  },
  {
   "cell_type": "code",
   "execution_count": 14,
   "id": "7dd10bf1",
   "metadata": {},
   "outputs": [],
   "source": [
    "# Perform PCA with the chosen number of components and project data onto components\n",
    "pca = PCA(n_components=6, random_state=10)\n",
    "\n",
    "# Fit and transform the scaled training features using pca\n",
    "train_pca = pca.fit_transform(scaled_train_features)\n",
    "\n",
    "# Fit and transform the scaled test features using pca\n",
    "test_pca = pca.transform(scaled_test_features)"
   ]
  },
  {
   "cell_type": "markdown",
   "id": "28a0a965",
   "metadata": {},
   "source": [
    "## Model Building"
   ]
  },
  {
   "cell_type": "markdown",
   "id": "fb8dcc7c",
   "metadata": {},
   "source": [
    "The following models are build and evaluated:\n",
    "\n",
    "    1. Logistic Regression\n",
    "    \n",
    "    2. Support Vector Machine\n",
    "    \n",
    "    3. Decision Trees\n",
    "    \n",
    "    4. Random Forest"
   ]
  },
  {
   "cell_type": "code",
   "execution_count": 26,
   "id": "7d2222a6",
   "metadata": {},
   "outputs": [
    {
     "name": "stdout",
     "output_type": "stream",
     "text": [
      "Mean Cross-Validated Score: 82.20%\n",
      "Logistic Regression Classifier Train Accuracy: 82.64%\n",
      "Logistic Regression Classifier Test Accuracy: 82.42%\n"
     ]
    }
   ],
   "source": [
    "# Fit and evaluate logistic regression classifier\n",
    "lr = LogisticRegression(random_state=42)\n",
    "lr.fit(train_pca,train_labels)\n",
    "# perform cv with 5 folds\n",
    "cv_scores = cross_val_score(lr, train_pca, train_labels, cv=5, scoring='accuracy')\n",
    "mean_cv_score = cv_scores.mean()\n",
    "# train accuracy\n",
    "lr_score_train = lr.score(train_pca,train_labels)\n",
    "# test accuracy\n",
    "lr_score_test = lr.score(test_pca,test_labels)\n",
    "print('Mean Cross-Validated Score: {:.2f}%'.format(mean_cv_score*100))\n",
    "print(\"Logistic Regression Classifier Train Accuracy: {:.2f}%\".format(lr_score_train*100))\n",
    "print(\"Logistic Regression Classifier Test Accuracy: {:.2f}%\".format(lr_score_test*100))"
   ]
  },
  {
   "cell_type": "code",
   "execution_count": 29,
   "id": "69960cf0",
   "metadata": {},
   "outputs": [
    {
     "name": "stdout",
     "output_type": "stream",
     "text": [
      "Mean Cross-Validated Score: 85.20%\n",
      "Support Vector Machine Classifier Train Accuracy: 87.69%\n",
      "Support Vector Machine Classifier Test Accuracy: 85.93%\n"
     ]
    }
   ],
   "source": [
    "# Fit and evaluate support vector machine classifier\n",
    "svm = SVC(random_state=42)\n",
    "svm.fit(train_pca,train_labels)\n",
    "# perform cv\n",
    "cv_scores = cross_val_score(svm, train_pca, train_labels, cv=5, scoring='accuracy')\n",
    "mean_cv_score = cv_scores.mean()\n",
    "# train accuracy\n",
    "svm_score_train = svm.score(train_pca,train_labels)\n",
    "# test accuracy\n",
    "svm_score_test = svm.score(test_pca,test_labels)\n",
    "print('Mean Cross-Validated Score: {:.2f}%'.format(mean_cv_score*100))\n",
    "print(\"Support Vector Machine Classifier Train Accuracy: {:.2f}%\".format(svm_score_train*100))\n",
    "print(\"Support Vector Machine Classifier Test Accuracy: {:.2f}%\".format(svm_score_test*100))"
   ]
  },
  {
   "cell_type": "code",
   "execution_count": 30,
   "id": "9f22641d",
   "metadata": {},
   "outputs": [
    {
     "name": "stdout",
     "output_type": "stream",
     "text": [
      "Mean Cross-Validated Score: 80.00%\n",
      "Decision Tree Classifier Train Accuracy: 100.00%\n",
      "Decision Tree Classifier Test Accuracy: 78.02%\n"
     ]
    }
   ],
   "source": [
    "# Fit and evaluate decision tree classifier\n",
    "dt = DecisionTreeClassifier(random_state=42)\n",
    "dt.fit(train_pca,train_labels)\n",
    "# perform cv\n",
    "cv_scores = cross_val_score(dt, train_pca, train_labels, cv=5, scoring='accuracy')\n",
    "mean_cv_score = cv_scores.mean()\n",
    "# train accuracy\n",
    "dt_score_train = dt.score(train_pca,train_labels)\n",
    "# test accuracy\n",
    "dt_score_test = dt.score(test_pca,test_labels)\n",
    "print('Mean Cross-Validated Score: {:.2f}%'.format(mean_cv_score*100))\n",
    "print(\"Decision Tree Classifier Train Accuracy: {:.2f}%\".format(dt_score_train*100))\n",
    "print(\"Decision Tree Classifier Test Accuracy: {:.2f}%\".format(dt_score_test*100))"
   ]
  },
  {
   "cell_type": "code",
   "execution_count": 31,
   "id": "8e68ab59",
   "metadata": {},
   "outputs": [
    {
     "name": "stdout",
     "output_type": "stream",
     "text": [
      "Mean Cross-Validated Score: 84.76%\n",
      "Random Forest Classifier Train Accuracy: 100.00%\n",
      "Random Forest Classifier Test Accuracy: 85.49%\n"
     ]
    }
   ],
   "source": [
    "# Fit and evaluate random forest classifier\n",
    "rf = RandomForestClassifier(random_state=42)\n",
    "rf.fit(train_pca,train_labels)\n",
    "# perform cv\n",
    "cv_scores = cross_val_score(rf, train_pca, train_labels, cv=5, scoring='accuracy')\n",
    "mean_cv_score = cv_scores.mean()\n",
    "# train accuracy\n",
    "rf_score_train = rf.score(train_pca,train_labels)\n",
    "# test accuracy\n",
    "rf_score_test = rf.score(test_pca,test_labels)\n",
    "print('Mean Cross-Validated Score: {:.2f}%'.format(mean_cv_score*100))\n",
    "print(\"Random Forest Classifier Train Accuracy: {:.2f}%\".format(rf_score_train*100))\n",
    "print(\"Random Forest Classifier Test Accuracy: {:.2f}%\".format(rf_score_test*100))"
   ]
  },
  {
   "cell_type": "markdown",
   "id": "7ab4ffe9",
   "metadata": {},
   "source": [
    "**Insights**\n",
    "\n",
    "- Logistic Regression and SVM show relatively consistent performance across cross-validation and test sets.\n",
    "\n",
    "- Decision Tree and Random Forest have a noticeable difference between train and test accuracies, suggesting a potential overfitting issue.\n",
    "\n",
    "- Considering hyperparameter tuning of Decision Tree and Random Forest to control overfitting."
   ]
  },
  {
   "cell_type": "markdown",
   "id": "20938685",
   "metadata": {},
   "source": [
    "## Hyperparameter Tuning and Evaluation"
   ]
  },
  {
   "cell_type": "code",
   "execution_count": 35,
   "id": "23a2f160",
   "metadata": {},
   "outputs": [
    {
     "name": "stdout",
     "output_type": "stream",
     "text": [
      "Best Parameters for Decision Tree: {'criterion': 'entropy', 'max_depth': None, 'min_samples_leaf': 1, 'min_samples_split': 100}\n",
      "Best Mean Cross-Validated Score for Decision Tree: 0.8212454212454212\n"
     ]
    }
   ],
   "source": [
    "# Define the hyperparameter grid\n",
    "dt_param_grid = {\n",
    "    'criterion': ['gini', 'entropy'],\n",
    "    'max_depth': [None, 10, 20, 30],\n",
    "    'min_samples_split': [2, 5, 10, 20, 50, 100],\n",
    "    'min_samples_leaf': [1, 2, 4, 10, 20]\n",
    "}\n",
    "\n",
    "# Perform GridSearchCV\n",
    "dt_grid_search = GridSearchCV(dt, dt_param_grid, cv=5, scoring='accuracy')\n",
    "dt_grid_search.fit(train_pca, train_labels)\n",
    "\n",
    "# Get the best model,parameters and the corresponding mean cross-validated score\n",
    "best_model_dt = dt_grid_search.best_estimator_\n",
    "best_params_dt = dt_grid_search.best_params_\n",
    "best_score_dt = dt_grid_search.best_score_\n",
    "\n",
    "# Print the results\n",
    "print(\"Best Parameters for Decision Tree:\", best_params_dt)\n",
    "print(\"Best Mean Cross-Validated Score for Decision Tree:\", best_score_dt)\n"
   ]
  },
  {
   "cell_type": "code",
   "execution_count": 38,
   "id": "8fbffc4c",
   "metadata": {},
   "outputs": [
    {
     "name": "stdout",
     "output_type": "stream",
     "text": [
      "Decision Tree Test Accuracy: 0.8197802197802198\n",
      "Decision Tree Classification Report:\n",
      "              precision    recall  f1-score   support\n",
      "\n",
      "     Hip-Hop       0.83      0.80      0.82       230\n",
      "        Rock       0.81      0.84      0.82       225\n",
      "\n",
      "    accuracy                           0.82       455\n",
      "   macro avg       0.82      0.82      0.82       455\n",
      "weighted avg       0.82      0.82      0.82       455\n",
      "\n",
      "Decision Tree Confusion Matrix:\n",
      "[[185  45]\n",
      " [ 37 188]]\n"
     ]
    }
   ],
   "source": [
    "# Evaluate the Decision Tree on the test set\n",
    "dt_test_pred = best_model_dt.predict(test_pca)\n",
    "dt_test_accuracy = accuracy_score(test_labels, dt_test_pred)\n",
    "\n",
    "# Print the results for Decision Tree\n",
    "print(\"Decision Tree Test Accuracy:\", dt_test_accuracy)\n",
    "print(\"Decision Tree Classification Report:\")\n",
    "print(classification_report(test_labels, dt_test_pred))\n",
    "print(\"Decision Tree Confusion Matrix:\")\n",
    "print(confusion_matrix(test_labels, dt_test_pred))"
   ]
  },
  {
   "cell_type": "code",
   "execution_count": 40,
   "id": "cf2a68df",
   "metadata": {},
   "outputs": [
    {
     "name": "stdout",
     "output_type": "stream",
     "text": [
      "Best Parameters for Random Forest: {'bootstrap': True, 'max_depth': 10, 'min_samples_leaf': 1, 'min_samples_split': 2, 'n_estimators': 50}\n",
      "Best Mean Cross-Validated Score for Random Forest: 0.8490842490842491\n"
     ]
    }
   ],
   "source": [
    "# Define the hyperparameter grid\n",
    "rf_param_grid = {\n",
    "    'n_estimators': [50, 100, 200],\n",
    "    'max_depth': [None, 10, 20, 30],\n",
    "    'min_samples_split': [2, 5, 10],\n",
    "    'min_samples_leaf': [1, 2, 4],\n",
    "    'bootstrap': [True, False]\n",
    "}\n",
    "\n",
    "# Perform GridSearchCV\n",
    "rf_grid_search = GridSearchCV(rf, rf_param_grid, cv=5, scoring='accuracy')\n",
    "rf_grid_search.fit(train_pca, train_labels)\n",
    "\n",
    "# Get the best model,parameters and the corresponding mean cross-validated score\n",
    "best_model_rf = rf_grid_search.best_estimator_\n",
    "best_params_rf = rf_grid_search.best_params_\n",
    "best_score_rf = rf_grid_search.best_score_\n",
    "\n",
    "# Print the results\n",
    "print(\"Best Parameters for Random Forest:\", best_params_rf)\n",
    "print(\"Best Mean Cross-Validated Score for Random Forest:\", best_score_rf)"
   ]
  },
  {
   "cell_type": "code",
   "execution_count": 41,
   "id": "9d331267",
   "metadata": {
    "scrolled": true
   },
   "outputs": [
    {
     "name": "stdout",
     "output_type": "stream",
     "text": [
      "\n",
      "Random Forest Test Accuracy: 0.8483516483516483\n",
      "Random Forest Classification Report:\n",
      "              precision    recall  f1-score   support\n",
      "\n",
      "     Hip-Hop       0.87      0.82      0.84       230\n",
      "        Rock       0.82      0.88      0.85       225\n",
      "\n",
      "    accuracy                           0.85       455\n",
      "   macro avg       0.85      0.85      0.85       455\n",
      "weighted avg       0.85      0.85      0.85       455\n",
      "\n",
      "Random Forest Confusion Matrix:\n",
      "[[188  42]\n",
      " [ 27 198]]\n"
     ]
    }
   ],
   "source": [
    "# Evaluate the Random Forest on the test set\n",
    "rf_test_pred = best_model_rf.predict(test_pca)\n",
    "rf_test_accuracy = accuracy_score(test_labels, rf_test_pred)\n",
    "\n",
    "# Print the results for Random Forest\n",
    "print(\"\\nRandom Forest Test Accuracy:\", rf_test_accuracy)\n",
    "print(\"Random Forest Classification Report:\")\n",
    "print(classification_report(test_labels, rf_test_pred))\n",
    "print(\"Random Forest Confusion Matrix:\")\n",
    "print(confusion_matrix(test_labels, rf_test_pred))"
   ]
  },
  {
   "cell_type": "markdown",
   "id": "0fbacfb5",
   "metadata": {},
   "source": [
    "Both models show good performance on the test set, with accuracy around 82% for Decision Tree and 85% for Random Forest.Random Forest outperforms the Decision Tree in terms of accuracy and other metrics.But Random Forest Classifier's test accuracy was already 85.49% before tuning, and the accuracy after tuning is 84.84%, it suggests that the tuning process did not improve the model's performance on the test set. In some cases, hyperparameter tuning may not always lead to better results."
   ]
  },
  {
   "cell_type": "code",
   "execution_count": 43,
   "id": "ac2885ad",
   "metadata": {},
   "outputs": [
    {
     "data": {
      "text/plain": [
       "['song_classifier.joblib']"
      ]
     },
     "execution_count": 43,
     "metadata": {},
     "output_type": "execute_result"
    }
   ],
   "source": [
    "# Save the best model to disk\n",
    "joblib.dump(best_model_rf, 'song_classifier.joblib')"
   ]
  }
 ],
 "metadata": {
  "kernelspec": {
   "display_name": "Python 3 (ipykernel)",
   "language": "python",
   "name": "python3"
  },
  "language_info": {
   "codemirror_mode": {
    "name": "ipython",
    "version": 3
   },
   "file_extension": ".py",
   "mimetype": "text/x-python",
   "name": "python",
   "nbconvert_exporter": "python",
   "pygments_lexer": "ipython3",
   "version": "3.10.12"
  }
 },
 "nbformat": 4,
 "nbformat_minor": 5
}
